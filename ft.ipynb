{
 "cells": [
  {
   "cell_type": "code",
   "execution_count": 3,
   "metadata": {},
   "outputs": [
    {
     "ename": "ReplicateError",
     "evalue": "ReplicateError Details:\ntitle: Invalid version or not permitted\nstatus: 422\ndetail: The specified version does not exist (or perhaps you don't have permission to use it?)",
     "output_type": "error",
     "traceback": [
      "\u001b[0;31m---------------------------------------------------------------------------\u001b[0m",
      "\u001b[0;31mReplicateError\u001b[0m                            Traceback (most recent call last)",
      "Cell \u001b[0;32mIn[3], line 3\u001b[0m\n\u001b[1;32m      1\u001b[0m \u001b[39mimport\u001b[39;00m \u001b[39mreplicate\u001b[39;00m\n\u001b[0;32m----> 3\u001b[0m training \u001b[39m=\u001b[39m replicate\u001b[39m.\u001b[39;49mtrainings\u001b[39m.\u001b[39;49mcreate(\n\u001b[1;32m      4\u001b[0m     version\u001b[39m=\u001b[39;49m\u001b[39m\"\u001b[39;49m\u001b[39mmeta/meta-llama-3-8b-instruct:73001d654114dad81ec65da3b834e2f691af1e1526453189b7bf36fb3f32d0f9\u001b[39;49m\u001b[39m\"\u001b[39;49m,\n\u001b[1;32m      5\u001b[0m     \u001b[39minput\u001b[39;49m\u001b[39m=\u001b[39;49m{\n\u001b[1;32m      6\u001b[0m         \u001b[39m\"\u001b[39;49m\u001b[39mtraining\u001b[39;49m\u001b[39m\"\u001b[39;49m: \u001b[39m\"\u001b[39;49m\u001b[39mhttps://raw.githubusercontent.com/skunnavakkam/wm-dev-in-llms/main/data.jsonl\u001b[39;49m\u001b[39m\"\u001b[39;49m,\n\u001b[1;32m      7\u001b[0m         \u001b[39m\"\u001b[39;49m\u001b[39mnum_epochs\u001b[39;49m\u001b[39m\"\u001b[39;49m: \u001b[39m1\u001b[39;49m,\n\u001b[1;32m      8\u001b[0m     },\n\u001b[1;32m      9\u001b[0m     destination\u001b[39m=\u001b[39;49m\u001b[39m\"\u001b[39;49m\u001b[39mskunnavakkam/wm1\u001b[39;49m\u001b[39m\"\u001b[39;49m,\n\u001b[1;32m     10\u001b[0m )\n",
      "File \u001b[0;32m~/Documents/Github/wm-dev-in-llms/venv/lib/python3.12/site-packages/replicate/training.py:281\u001b[0m, in \u001b[0;36mTrainings.create\u001b[0;34m(self, model, version, input, *args, **params)\u001b[0m\n\u001b[1;32m    278\u001b[0m     \u001b[39mraise\u001b[39;00m \u001b[39mValueError\u001b[39;00m(\u001b[39m\"\u001b[39m\u001b[39mmodel and version or shorthand version must be specified\u001b[39m\u001b[39m\"\u001b[39m)\n\u001b[1;32m    280\u001b[0m body \u001b[39m=\u001b[39m _create_training_body(\u001b[39minput\u001b[39m, \u001b[39m*\u001b[39m\u001b[39m*\u001b[39mparams)\n\u001b[0;32m--> 281\u001b[0m resp \u001b[39m=\u001b[39m \u001b[39mself\u001b[39;49m\u001b[39m.\u001b[39;49m_client\u001b[39m.\u001b[39;49m_request(\n\u001b[1;32m    282\u001b[0m     \u001b[39m\"\u001b[39;49m\u001b[39mPOST\u001b[39;49m\u001b[39m\"\u001b[39;49m,\n\u001b[1;32m    283\u001b[0m     url,\n\u001b[1;32m    284\u001b[0m     json\u001b[39m=\u001b[39;49mbody,\n\u001b[1;32m    285\u001b[0m )\n\u001b[1;32m    287\u001b[0m \u001b[39mreturn\u001b[39;00m _json_to_training(\u001b[39mself\u001b[39m\u001b[39m.\u001b[39m_client, resp\u001b[39m.\u001b[39mjson())\n",
      "File \u001b[0;32m~/Documents/Github/wm-dev-in-llms/venv/lib/python3.12/site-packages/replicate/client.py:87\u001b[0m, in \u001b[0;36mClient._request\u001b[0;34m(self, method, path, **kwargs)\u001b[0m\n\u001b[1;32m     85\u001b[0m \u001b[39mdef\u001b[39;00m \u001b[39m_request\u001b[39m(\u001b[39mself\u001b[39m, method: \u001b[39mstr\u001b[39m, path: \u001b[39mstr\u001b[39m, \u001b[39m*\u001b[39m\u001b[39m*\u001b[39mkwargs) \u001b[39m-\u001b[39m\u001b[39m>\u001b[39m httpx\u001b[39m.\u001b[39mResponse:\n\u001b[1;32m     86\u001b[0m     resp \u001b[39m=\u001b[39m \u001b[39mself\u001b[39m\u001b[39m.\u001b[39m_client\u001b[39m.\u001b[39mrequest(method, path, \u001b[39m*\u001b[39m\u001b[39m*\u001b[39mkwargs)\n\u001b[0;32m---> 87\u001b[0m     _raise_for_status(resp)\n\u001b[1;32m     89\u001b[0m     \u001b[39mreturn\u001b[39;00m resp\n",
      "File \u001b[0;32m~/Documents/Github/wm-dev-in-llms/venv/lib/python3.12/site-packages/replicate/client.py:367\u001b[0m, in \u001b[0;36m_raise_for_status\u001b[0;34m(resp)\u001b[0m\n\u001b[1;32m    365\u001b[0m \u001b[39mdef\u001b[39;00m \u001b[39m_raise_for_status\u001b[39m(resp: httpx\u001b[39m.\u001b[39mResponse) \u001b[39m-\u001b[39m\u001b[39m>\u001b[39m \u001b[39mNone\u001b[39;00m:\n\u001b[1;32m    366\u001b[0m     \u001b[39mif\u001b[39;00m \u001b[39m400\u001b[39m \u001b[39m<\u001b[39m\u001b[39m=\u001b[39m resp\u001b[39m.\u001b[39mstatus_code \u001b[39m<\u001b[39m \u001b[39m600\u001b[39m:\n\u001b[0;32m--> 367\u001b[0m         \u001b[39mraise\u001b[39;00m ReplicateError\u001b[39m.\u001b[39mfrom_response(resp)\n",
      "\u001b[0;31mReplicateError\u001b[0m: ReplicateError Details:\ntitle: Invalid version or not permitted\nstatus: 422\ndetail: The specified version does not exist (or perhaps you don't have permission to use it?)"
     ]
    }
   ],
   "source": [
    "import replicate\n",
    "\n",
    "training = replicate.trainings.create(\n",
    "    version=\"meta/meta-llama-3-8b-instruct:73001d654114dad81ec65da3b834e2f691af1e1526453189b7bf36fb3f32d0f9\",\n",
    "    input={\n",
    "        \"training\": \"https://raw.githubusercontent.com/skunnavakkam/wm-dev-in-llms/main/data.jsonl\",\n",
    "        \"num_epochs\": 1,\n",
    "    },\n",
    "    destination=\"skunnavakkam/wm1\",\n",
    ")"
   ]
  }
 ],
 "metadata": {
  "kernelspec": {
   "display_name": "venv",
   "language": "python",
   "name": "python3"
  },
  "language_info": {
   "codemirror_mode": {
    "name": "ipython",
    "version": 3
   },
   "file_extension": ".py",
   "mimetype": "text/x-python",
   "name": "python",
   "nbconvert_exporter": "python",
   "pygments_lexer": "ipython3",
   "version": "3.12.3"
  },
  "orig_nbformat": 4
 },
 "nbformat": 4,
 "nbformat_minor": 2
}
