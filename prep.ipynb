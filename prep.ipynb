{
 "cells": [
  {
   "cell_type": "code",
   "execution_count": 2,
   "metadata": {},
   "outputs": [],
   "source": [
    "# load from output.pkl\n",
    "import pickle\n",
    "\n",
    "with open(\"output.pkl\", \"rb\") as f:\n",
    "    data = pickle.load(f)"
   ]
  },
  {
   "cell_type": "code",
   "execution_count": 3,
   "metadata": {},
   "outputs": [],
   "source": [
    "import json\n",
    "\n",
    "output_file = \"output.jsonl\"\n",
    "\n",
    "# Open the file in write mode\n",
    "with open(output_file, \"w\") as file:\n",
    "    for element in data:\n",
    "        # Create a dictionary with the desired format\n",
    "        json_line = {\"text\": element}\n",
    "        # Write the dictionary to the file in JSON format followed by a newline\n",
    "        file.write(json.dumps(json_line) + \"\\n\")"
   ]
  }
 ],
 "metadata": {
  "kernelspec": {
   "display_name": "venv",
   "language": "python",
   "name": "python3"
  },
  "language_info": {
   "codemirror_mode": {
    "name": "ipython",
    "version": 3
   },
   "file_extension": ".py",
   "mimetype": "text/x-python",
   "name": "python",
   "nbconvert_exporter": "python",
   "pygments_lexer": "ipython3",
   "version": "3.12.3"
  },
  "orig_nbformat": 4
 },
 "nbformat": 4,
 "nbformat_minor": 2
}
